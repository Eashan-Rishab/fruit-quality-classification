{
 "cells": [
  {
   "cell_type": "markdown",
   "id": "08cc0846",
   "metadata": {},
   "source": [
    "# Import Libraries"
   ]
  },
  {
   "cell_type": "code",
   "execution_count": 1,
   "id": "39fc329c",
   "metadata": {},
   "outputs": [],
   "source": [
    "import numpy as np\n",
    "import matplotlib.pyplot as plt\n",
    "import matplotlib\n",
    "matplotlib.rcParams.update({'font.size': 16})"
   ]
  },
  {
   "cell_type": "code",
   "execution_count": 2,
   "id": "b76cf4e9",
   "metadata": {},
   "outputs": [],
   "source": [
    "from tensorflow.keras.layers import Dense,Flatten, Conv2D, MaxPool2D, BatchNormalization, GlobalAveragePooling2D, Dropout\n",
    "from tensorflow.keras.preprocessing.image import ImageDataGenerator, load_img\n",
    "from tensorflow.keras.preprocessing import image\n",
    "from tensorflow.keras.models import Sequential, Model\n",
    "from keras.callbacks import ModelCheckpoint, TensorBoard, EarlyStopping"
   ]
  },
  {
   "cell_type": "code",
   "execution_count": 3,
   "id": "eea7fa76",
   "metadata": {},
   "outputs": [],
   "source": [
    "import tensorflow.keras.backend as K\n",
    "K.clear_session()"
   ]
  },
  {
   "cell_type": "code",
   "execution_count": 4,
   "id": "c07e1132",
   "metadata": {},
   "outputs": [
    {
     "name": "stdout",
     "output_type": "stream",
     "text": [
      "[name: \"/device:CPU:0\"\n",
      "device_type: \"CPU\"\n",
      "memory_limit: 268435456\n",
      "locality {\n",
      "}\n",
      "incarnation: 1127140874877491056\n",
      "xla_global_id: -1\n",
      ", name: \"/device:GPU:0\"\n",
      "device_type: \"GPU\"\n",
      "memory_limit: 3663069184\n",
      "locality {\n",
      "  bus_id: 1\n",
      "  links {\n",
      "  }\n",
      "}\n",
      "incarnation: 219073590450859215\n",
      "physical_device_desc: \"device: 0, name: NVIDIA GeForce RTX 3060 Laptop GPU, pci bus id: 0000:01:00.0, compute capability: 8.6\"\n",
      "xla_global_id: 416903419\n",
      "]\n"
     ]
    }
   ],
   "source": [
    "from tensorflow.python.client import device_lib\n",
    "print(device_lib.list_local_devices())"
   ]
  },
  {
   "cell_type": "markdown",
   "id": "0e593dcf",
   "metadata": {},
   "source": [
    "# Image Preprocssing"
   ]
  },
  {
   "cell_type": "code",
   "execution_count": 5,
   "id": "36129938",
   "metadata": {},
   "outputs": [],
   "source": [
    "def to_grayscale(image):\n",
    "    image = tf.image.rgb_to_grayscale(image)\n",
    "    return image"
   ]
  },
  {
   "cell_type": "code",
   "execution_count": 6,
   "id": "2238b465",
   "metadata": {},
   "outputs": [],
   "source": [
    "image_height, image_width = (412, 412)\n",
    "batch_size = 32\n",
    "\n",
    "train_data_dir = 'train/'\n",
    "test_data_dir = 'test/'"
   ]
  },
  {
   "cell_type": "code",
   "execution_count": 7,
   "id": "8193d6af",
   "metadata": {},
   "outputs": [
    {
     "name": "stdout",
     "output_type": "stream",
     "text": [
      "Found 3061 images belonging to 2 classes.\n"
     ]
    }
   ],
   "source": [
    "train_datagen = ImageDataGenerator(rescale=1./255,\n",
    "                                  horizontal_flip=0.5,\n",
    "                                  shear_range=0.5)\n",
    "\n",
    "train_generator = train_datagen.flow_from_directory(\n",
    "    train_data_dir,\n",
    "    target_size=(image_height, image_width),\n",
    "    batch_size=batch_size,\n",
    "    class_mode='categorical',\n",
    "    color_mode='grayscale')"
   ]
  },
  {
   "cell_type": "code",
   "execution_count": 8,
   "id": "e842f880",
   "metadata": {},
   "outputs": [
    {
     "name": "stdout",
     "output_type": "stream",
     "text": [
      "Found 791 images belonging to 2 classes.\n"
     ]
    }
   ],
   "source": [
    "test_generator = train_datagen.flow_from_directory(\n",
    "                    test_data_dir,\n",
    "                    target_size=(image_height, image_width),\n",
    "                    batch_size=batch_size,\n",
    "                    class_mode='categorical',\n",
    "                    color_mode='grayscale')"
   ]
  },
  {
   "cell_type": "markdown",
   "id": "fee6b5fa",
   "metadata": {},
   "source": [
    "# Creating Model for choosing best model"
   ]
  },
  {
   "cell_type": "code",
   "execution_count": 9,
   "id": "e32dd514",
   "metadata": {},
   "outputs": [],
   "source": [
    "x, y = train_generator.next()"
   ]
  },
  {
   "cell_type": "code",
   "execution_count": 10,
   "id": "d113ea28",
   "metadata": {},
   "outputs": [],
   "source": [
    "model = Sequential()\n",
    "\n",
    "model.add(Conv2D(32, (3, 3),\n",
    "                 activation='relu',\n",
    "                 input_shape=x.shape[1:]))\n",
    "\n",
    "model.add(MaxPool2D(pool_size=(2, 2)))\n",
    "\n",
    "model.add(BatchNormalization())\n",
    "\n",
    "model.add(Conv2D(32, (3, 3), activation='relu'))\n",
    "\n",
    "model.add(MaxPool2D(pool_size=(2, 2)))\n",
    "\n",
    "model.add(Conv2D(32, (3, 3),\n",
    "                 activation='relu',\n",
    "                 input_shape=x.shape[1:]))\n",
    "\n",
    "model.add(MaxPool2D(pool_size=(2, 2)))\n",
    "\n",
    "model.add(BatchNormalization())\n",
    "\n",
    "model.add(Conv2D(32, (3, 3),\n",
    "                 activation='relu',\n",
    "                 input_shape=x.shape[1:]))\n",
    "\n",
    "model.add(MaxPool2D(pool_size=(2, 2)))\n",
    "\n",
    "model.add(BatchNormalization())\n",
    "\n",
    "model.add(Flatten())\n",
    "\n",
    "model.add(BatchNormalization())\n",
    "\n",
    "model.add(Dropout(0.5))\n",
    "\n",
    "model.add(Dense(512, activation = 'relu'))\n",
    "\n",
    "model.add(BatchNormalization())\n",
    "\n",
    "model.add(Dense(2, activation='softmax'))"
   ]
  },
  {
   "cell_type": "code",
   "execution_count": 11,
   "id": "291c737f",
   "metadata": {},
   "outputs": [
    {
     "data": {
      "text/plain": [
       "(32, 412, 412, 1)"
      ]
     },
     "execution_count": 11,
     "metadata": {},
     "output_type": "execute_result"
    }
   ],
   "source": [
    "x.shape"
   ]
  },
  {
   "cell_type": "code",
   "execution_count": 12,
   "id": "a74b2c80",
   "metadata": {},
   "outputs": [],
   "source": [
    "model.compile(optimizer='adam', loss='binary_crossentropy', metrics=['accuracy'])"
   ]
  },
  {
   "cell_type": "code",
   "execution_count": 13,
   "id": "11570c56",
   "metadata": {},
   "outputs": [],
   "source": [
    "%load_ext tensorboard"
   ]
  },
  {
   "cell_type": "code",
   "execution_count": 14,
   "id": "f095b51f",
   "metadata": {},
   "outputs": [],
   "source": [
    "import datetime\n",
    "from tensorflow.keras.callbacks import TensorBoard\n",
    "import tensorflow as tf\n",
    "\n",
    "# Set Folder for saving logs\n",
    "log_dir = \"logs/fit/\" + datetime.datetime.now().strftime(\"%Y%m%d-%H%M%S\")\n",
    "tensorboard_callback = tf.keras.callbacks.TensorBoard(log_dir=log_dir, histogram_freq=1)"
   ]
  },
  {
   "cell_type": "code",
   "execution_count": 15,
   "id": "305d6dfa",
   "metadata": {},
   "outputs": [
    {
     "name": "stdout",
     "output_type": "stream",
     "text": [
      "WARNING:tensorflow:`period` argument is deprecated. Please use `save_freq` to specify the frequency in number of batches seen.\n"
     ]
    }
   ],
   "source": [
    "checkpoint = ModelCheckpoint(\"best_model.hdf5\", monitor='val_accuracy', verbose=1, save_best_only=True, mode='auto', period=1)"
   ]
  },
  {
   "cell_type": "code",
   "execution_count": 16,
   "id": "6723c8d9",
   "metadata": {},
   "outputs": [],
   "source": [
    "steps_per_epoch =  train_generator.n // batch_size\n",
    "validation_steps= test_generator.n //batch_size"
   ]
  },
  {
   "cell_type": "code",
   "execution_count": 17,
   "id": "5c68a983",
   "metadata": {},
   "outputs": [
    {
     "name": "stdout",
     "output_type": "stream",
     "text": [
      "Epoch 1/10\n",
      "96/96 [==============================] - ETA: 0s - loss: 0.5009 - accuracy: 0.8386\n",
      "Epoch 00001: val_accuracy improved from -inf to 0.51042, saving model to best_model.hdf5\n",
      "96/96 [==============================] - 47s 419ms/step - loss: 0.5009 - accuracy: 0.8386 - val_loss: 0.6989 - val_accuracy: 0.5104\n",
      "Epoch 2/10\n",
      "96/96 [==============================] - ETA: 0s - loss: 0.2389 - accuracy: 0.9066\n",
      "Epoch 00002: val_accuracy did not improve from 0.51042\n",
      "96/96 [==============================] - 36s 371ms/step - loss: 0.2389 - accuracy: 0.9066 - val_loss: 0.9900 - val_accuracy: 0.5052\n",
      "Epoch 3/10\n",
      "96/96 [==============================] - ETA: 0s - loss: 0.2019 - accuracy: 0.9262\n",
      "Epoch 00003: val_accuracy improved from 0.51042 to 0.54948, saving model to best_model.hdf5\n",
      "96/96 [==============================] - 36s 371ms/step - loss: 0.2019 - accuracy: 0.9262 - val_loss: 0.8379 - val_accuracy: 0.5495\n",
      "Epoch 4/10\n",
      "96/96 [==============================] - ETA: 0s - loss: 0.1427 - accuracy: 0.9484\n",
      "Epoch 00004: val_accuracy improved from 0.54948 to 0.74479, saving model to best_model.hdf5\n",
      "96/96 [==============================] - 35s 367ms/step - loss: 0.1427 - accuracy: 0.9484 - val_loss: 0.5014 - val_accuracy: 0.7448\n",
      "Epoch 5/10\n",
      "96/96 [==============================] - ETA: 0s - loss: 0.1302 - accuracy: 0.9490\n",
      "Epoch 00005: val_accuracy improved from 0.74479 to 0.86328, saving model to best_model.hdf5\n",
      "96/96 [==============================] - 35s 366ms/step - loss: 0.1302 - accuracy: 0.9490 - val_loss: 0.3312 - val_accuracy: 0.8633\n",
      "Epoch 6/10\n",
      "96/96 [==============================] - ETA: 0s - loss: 0.1143 - accuracy: 0.9582\n",
      "Epoch 00006: val_accuracy did not improve from 0.86328\n",
      "96/96 [==============================] - 36s 374ms/step - loss: 0.1143 - accuracy: 0.9582 - val_loss: 0.6398 - val_accuracy: 0.7708\n",
      "Epoch 7/10\n",
      "96/96 [==============================] - ETA: 0s - loss: 0.0909 - accuracy: 0.9673\n",
      "Epoch 00007: val_accuracy did not improve from 0.86328\n",
      "96/96 [==============================] - 35s 361ms/step - loss: 0.0909 - accuracy: 0.9673 - val_loss: 0.4177 - val_accuracy: 0.8385\n",
      "Epoch 8/10\n",
      "96/96 [==============================] - ETA: 0s - loss: 0.0893 - accuracy: 0.9664\n",
      "Epoch 00008: val_accuracy did not improve from 0.86328\n",
      "96/96 [==============================] - 35s 362ms/step - loss: 0.0893 - accuracy: 0.9664 - val_loss: 2.1057 - val_accuracy: 0.6276\n",
      "Epoch 9/10\n",
      "96/96 [==============================] - ETA: 0s - loss: 0.0681 - accuracy: 0.9765\n",
      "Epoch 00009: val_accuracy did not improve from 0.86328\n",
      "96/96 [==============================] - 35s 361ms/step - loss: 0.0681 - accuracy: 0.9765 - val_loss: 2.5487 - val_accuracy: 0.5195\n",
      "Epoch 10/10\n",
      "96/96 [==============================] - ETA: 0s - loss: 0.0791 - accuracy: 0.9719\n",
      "Epoch 00010: val_accuracy improved from 0.86328 to 0.87370, saving model to best_model.hdf5\n",
      "96/96 [==============================] - 35s 366ms/step - loss: 0.0791 - accuracy: 0.9719 - val_loss: 0.4202 - val_accuracy: 0.8737\n"
     ]
    }
   ],
   "source": [
    "hist = model.fit(train_generator, epochs=10, callbacks=[tensorboard_callback, checkpoint], validation_data=test_generator, validation_steps=validation_steps)"
   ]
  },
  {
   "cell_type": "code",
   "execution_count": 18,
   "id": "3da33785",
   "metadata": {},
   "outputs": [
    {
     "data": {
      "text/html": [
       "\n",
       "      <iframe id=\"tensorboard-frame-6869632fa96cfd0e\" width=\"100%\" height=\"800\" frameborder=\"0\">\n",
       "      </iframe>\n",
       "      <script>\n",
       "        (function() {\n",
       "          const frame = document.getElementById(\"tensorboard-frame-6869632fa96cfd0e\");\n",
       "          const url = new URL(\"/\", window.location);\n",
       "          const port = 6006;\n",
       "          if (port) {\n",
       "            url.port = port;\n",
       "          }\n",
       "          frame.src = url;\n",
       "        })();\n",
       "      </script>\n",
       "    "
      ],
      "text/plain": [
       "<IPython.core.display.HTML object>"
      ]
     },
     "metadata": {},
     "output_type": "display_data"
    }
   ],
   "source": [
    "%tensorboard --logdir logs/fit"
   ]
  },
  {
   "cell_type": "code",
   "execution_count": 19,
   "id": "ad23ca67",
   "metadata": {},
   "outputs": [
    {
     "name": "stdout",
     "output_type": "stream",
     "text": [
      "25/25 [==============================] - 7s 293ms/step - loss: 0.4085 - accuracy: 0.8824\n"
     ]
    },
    {
     "data": {
      "text/plain": [
       "[0.40852299332618713, 0.8824273347854614]"
      ]
     },
     "execution_count": 19,
     "metadata": {},
     "output_type": "execute_result"
    }
   ],
   "source": [
    "model.evaluate(test_generator)"
   ]
  },
  {
   "cell_type": "code",
   "execution_count": 20,
   "id": "977e9b3e",
   "metadata": {},
   "outputs": [],
   "source": [
    "# import shutil\n",
    "\n",
    "# shutil.rmtree('logs', ignore_errors=False)"
   ]
  }
 ],
 "metadata": {
  "kernelspec": {
   "display_name": "Python 3 (ipykernel)",
   "language": "python",
   "name": "python3"
  },
  "language_info": {
   "codemirror_mode": {
    "name": "ipython",
    "version": 3
   },
   "file_extension": ".py",
   "mimetype": "text/x-python",
   "name": "python",
   "nbconvert_exporter": "python",
   "pygments_lexer": "ipython3",
   "version": "3.7.11"
  }
 },
 "nbformat": 4,
 "nbformat_minor": 5
}
