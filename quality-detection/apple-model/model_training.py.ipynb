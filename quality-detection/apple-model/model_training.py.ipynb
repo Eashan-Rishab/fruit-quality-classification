{
 "cells": [
  {
   "cell_type": "markdown",
   "id": "08cc0846",
   "metadata": {},
   "source": [
    "# Import Libraries"
   ]
  },
  {
   "cell_type": "code",
   "execution_count": 1,
   "id": "39fc329c",
   "metadata": {},
   "outputs": [],
   "source": [
    "import numpy as np\n",
    "import matplotlib.pyplot as plt\n",
    "import matplotlib\n",
    "matplotlib.rcParams.update({'font.size': 16})"
   ]
  },
  {
   "cell_type": "code",
   "execution_count": 2,
   "id": "b76cf4e9",
   "metadata": {},
   "outputs": [],
   "source": [
    "from tensorflow.keras.layers import Dense,Flatten, Conv2D, MaxPool2D, BatchNormalization, GlobalAveragePooling2D, Dropout\n",
    "from tensorflow.keras.preprocessing.image import ImageDataGenerator, load_img\n",
    "from tensorflow.keras.preprocessing import image\n",
    "from tensorflow.keras.models import Sequential, Model\n",
    "from keras.callbacks import ModelCheckpoint, TensorBoard, EarlyStopping"
   ]
  },
  {
   "cell_type": "code",
   "execution_count": 3,
   "id": "eea7fa76",
   "metadata": {},
   "outputs": [],
   "source": [
    "import tensorflow.keras.backend as K\n",
    "K.clear_session()"
   ]
  },
  {
   "cell_type": "code",
   "execution_count": 4,
   "id": "c07e1132",
   "metadata": {},
   "outputs": [
    {
     "name": "stdout",
     "output_type": "stream",
     "text": [
      "[name: \"/device:CPU:0\"\n",
      "device_type: \"CPU\"\n",
      "memory_limit: 268435456\n",
      "locality {\n",
      "}\n",
      "incarnation: 12509140601063910293\n",
      "xla_global_id: -1\n",
      ", name: \"/device:GPU:0\"\n",
      "device_type: \"GPU\"\n",
      "memory_limit: 3663069184\n",
      "locality {\n",
      "  bus_id: 1\n",
      "  links {\n",
      "  }\n",
      "}\n",
      "incarnation: 17493795799658096013\n",
      "physical_device_desc: \"device: 0, name: NVIDIA GeForce RTX 3060 Laptop GPU, pci bus id: 0000:01:00.0, compute capability: 8.6\"\n",
      "xla_global_id: 416903419\n",
      "]\n"
     ]
    }
   ],
   "source": [
    "from tensorflow.python.client import device_lib\n",
    "print(device_lib.list_local_devices())"
   ]
  },
  {
   "cell_type": "markdown",
   "id": "0e593dcf",
   "metadata": {},
   "source": [
    "# Image Preprocssing"
   ]
  },
  {
   "cell_type": "code",
   "execution_count": 5,
   "id": "2238b465",
   "metadata": {},
   "outputs": [],
   "source": [
    "image_height, image_width = (412, 412)\n",
    "batch_size = 32\n",
    "\n",
    "train_data_dir = 'train/'\n",
    "test_data_dir = 'test/'"
   ]
  },
  {
   "cell_type": "code",
   "execution_count": 6,
   "id": "8193d6af",
   "metadata": {},
   "outputs": [
    {
     "name": "stdout",
     "output_type": "stream",
     "text": [
      "Found 4035 images belonging to 2 classes.\n"
     ]
    }
   ],
   "source": [
    "train_datagen = ImageDataGenerator(rescale=1./255,\n",
    "                                  horizontal_flip=0.5,\n",
    "                                  shear_range=0.5)\n",
    "\n",
    "train_generator = train_datagen.flow_from_directory(\n",
    "    train_data_dir,\n",
    "    target_size=(image_height, image_width),\n",
    "    batch_size=batch_size,\n",
    "    class_mode='categorical',\n",
    "    color_mode='grayscale')"
   ]
  },
  {
   "cell_type": "code",
   "execution_count": 7,
   "id": "e842f880",
   "metadata": {},
   "outputs": [
    {
     "name": "stdout",
     "output_type": "stream",
     "text": [
      "Found 996 images belonging to 2 classes.\n"
     ]
    }
   ],
   "source": [
    "test_generator = train_datagen.flow_from_directory(\n",
    "                    test_data_dir,\n",
    "                    target_size=(image_height, image_width),\n",
    "                    batch_size=batch_size,\n",
    "                    class_mode='categorical',\n",
    "                    color_mode='grayscale')"
   ]
  },
  {
   "cell_type": "markdown",
   "id": "fee6b5fa",
   "metadata": {},
   "source": [
    "# Creating Model for choosing best model"
   ]
  },
  {
   "cell_type": "code",
   "execution_count": 8,
   "id": "e32dd514",
   "metadata": {},
   "outputs": [],
   "source": [
    "x, y = train_generator.next()"
   ]
  },
  {
   "cell_type": "code",
   "execution_count": 9,
   "id": "d113ea28",
   "metadata": {},
   "outputs": [],
   "source": [
    "model = Sequential()\n",
    "\n",
    "model.add(Conv2D(32, (3, 3),\n",
    "                 activation='relu',\n",
    "                 input_shape=x.shape[1:]))\n",
    "\n",
    "model.add(MaxPool2D(pool_size=(2, 2)))\n",
    "\n",
    "model.add(BatchNormalization())\n",
    "\n",
    "model.add(Conv2D(32, (3, 3), activation='relu'))\n",
    "\n",
    "model.add(MaxPool2D(pool_size=(2, 2)))\n",
    "\n",
    "model.add(Conv2D(32, (3, 3),\n",
    "                 activation='relu',\n",
    "                 input_shape=x.shape[1:]))\n",
    "\n",
    "model.add(MaxPool2D(pool_size=(2, 2)))\n",
    "\n",
    "model.add(BatchNormalization())\n",
    "\n",
    "model.add(Conv2D(32, (3, 3),\n",
    "                 activation='relu',\n",
    "                 input_shape=x.shape[1:]))\n",
    "\n",
    "model.add(MaxPool2D(pool_size=(2, 2)))\n",
    "\n",
    "model.add(BatchNormalization())\n",
    "\n",
    "model.add(Flatten())\n",
    "\n",
    "model.add(BatchNormalization())\n",
    "\n",
    "model.add(Dropout(0.5))\n",
    "\n",
    "model.add(Dense(512, activation = 'relu'))\n",
    "\n",
    "model.add(BatchNormalization())\n",
    "\n",
    "model.add(Dense(2, activation='softmax'))"
   ]
  },
  {
   "cell_type": "code",
   "execution_count": 10,
   "id": "291c737f",
   "metadata": {},
   "outputs": [
    {
     "data": {
      "text/plain": [
       "(32, 412, 412, 1)"
      ]
     },
     "execution_count": 10,
     "metadata": {},
     "output_type": "execute_result"
    }
   ],
   "source": [
    "x.shape"
   ]
  },
  {
   "cell_type": "code",
   "execution_count": 11,
   "id": "a74b2c80",
   "metadata": {},
   "outputs": [],
   "source": [
    "model.compile(optimizer='adam', loss='binary_crossentropy', metrics=['accuracy'])"
   ]
  },
  {
   "cell_type": "code",
   "execution_count": 12,
   "id": "11570c56",
   "metadata": {},
   "outputs": [],
   "source": [
    "%load_ext tensorboard"
   ]
  },
  {
   "cell_type": "code",
   "execution_count": 13,
   "id": "f095b51f",
   "metadata": {},
   "outputs": [],
   "source": [
    "import datetime\n",
    "from tensorflow.keras.callbacks import TensorBoard\n",
    "import tensorflow as tf\n",
    "\n",
    "# Set Folder for saving logs\n",
    "log_dir = \"logs/fit/\" + datetime.datetime.now().strftime(\"%Y%m%d-%H%M%S\")\n",
    "tensorboard_callback = tf.keras.callbacks.TensorBoard(log_dir=log_dir, histogram_freq=1)"
   ]
  },
  {
   "cell_type": "code",
   "execution_count": 14,
   "id": "305d6dfa",
   "metadata": {},
   "outputs": [
    {
     "name": "stdout",
     "output_type": "stream",
     "text": [
      "WARNING:tensorflow:`period` argument is deprecated. Please use `save_freq` to specify the frequency in number of batches seen.\n"
     ]
    }
   ],
   "source": [
    "checkpoint = ModelCheckpoint(\"best_model.hdf5\", monitor='val_accuracy', verbose=1, save_best_only=True, mode='auto', period=1)"
   ]
  },
  {
   "cell_type": "code",
   "execution_count": 15,
   "id": "6723c8d9",
   "metadata": {},
   "outputs": [],
   "source": [
    "steps_per_epoch =  train_generator.n // batch_size\n",
    "validation_steps= test_generator.n //batch_size"
   ]
  },
  {
   "cell_type": "code",
   "execution_count": 16,
   "id": "5c68a983",
   "metadata": {},
   "outputs": [
    {
     "name": "stdout",
     "output_type": "stream",
     "text": [
      "Epoch 1/10\n",
      "127/127 [==============================] - ETA: 0s - loss: 0.6222 - accuracy: 0.7586\n",
      "Epoch 00001: val_accuracy improved from -inf to 0.39718, saving model to best_model.hdf5\n",
      "127/127 [==============================] - 57s 389ms/step - loss: 0.6222 - accuracy: 0.7586 - val_loss: 1.3304 - val_accuracy: 0.3972\n",
      "Epoch 2/10\n",
      "127/127 [==============================] - ETA: 0s - loss: 0.3178 - accuracy: 0.8615\n",
      "Epoch 00002: val_accuracy did not improve from 0.39718\n",
      "127/127 [==============================] - 46s 363ms/step - loss: 0.3178 - accuracy: 0.8615 - val_loss: 3.6706 - val_accuracy: 0.3952\n",
      "Epoch 3/10\n",
      "127/127 [==============================] - ETA: 0s - loss: 0.2365 - accuracy: 0.9046\n",
      "Epoch 00003: val_accuracy did not improve from 0.39718\n",
      "127/127 [==============================] - 46s 365ms/step - loss: 0.2365 - accuracy: 0.9046 - val_loss: 3.1956 - val_accuracy: 0.3972\n",
      "Epoch 4/10\n",
      "127/127 [==============================] - ETA: 0s - loss: 0.2416 - accuracy: 0.9024\n",
      "Epoch 00004: val_accuracy improved from 0.39718 to 0.41935, saving model to best_model.hdf5\n",
      "127/127 [==============================] - 45s 357ms/step - loss: 0.2416 - accuracy: 0.9024 - val_loss: 1.9363 - val_accuracy: 0.4194\n",
      "Epoch 5/10\n",
      "127/127 [==============================] - ETA: 0s - loss: 0.2347 - accuracy: 0.8999\n",
      "Epoch 00005: val_accuracy improved from 0.41935 to 0.62500, saving model to best_model.hdf5\n",
      "127/127 [==============================] - 45s 357ms/step - loss: 0.2347 - accuracy: 0.8999 - val_loss: 0.9608 - val_accuracy: 0.6250\n",
      "Epoch 6/10\n",
      "127/127 [==============================] - ETA: 0s - loss: 0.1760 - accuracy: 0.9291\n",
      "Epoch 00006: val_accuracy did not improve from 0.62500\n",
      "127/127 [==============================] - 46s 359ms/step - loss: 0.1760 - accuracy: 0.9291 - val_loss: 1.2693 - val_accuracy: 0.5998\n",
      "Epoch 7/10\n",
      "127/127 [==============================] - ETA: 0s - loss: 0.2082 - accuracy: 0.9195\n",
      "Epoch 00007: val_accuracy improved from 0.62500 to 0.90423, saving model to best_model.hdf5\n",
      "127/127 [==============================] - 46s 359ms/step - loss: 0.2082 - accuracy: 0.9195 - val_loss: 0.2318 - val_accuracy: 0.9042\n",
      "Epoch 8/10\n",
      "127/127 [==============================] - ETA: 0s - loss: 0.1496 - accuracy: 0.9375\n",
      "Epoch 00008: val_accuracy did not improve from 0.90423\n",
      "127/127 [==============================] - 45s 357ms/step - loss: 0.1496 - accuracy: 0.9375 - val_loss: 0.8400 - val_accuracy: 0.6815\n",
      "Epoch 9/10\n",
      "127/127 [==============================] - ETA: 0s - loss: 0.1396 - accuracy: 0.9430\n",
      "Epoch 00009: val_accuracy did not improve from 0.90423\n",
      "127/127 [==============================] - 45s 355ms/step - loss: 0.1396 - accuracy: 0.9430 - val_loss: 0.8629 - val_accuracy: 0.7188\n",
      "Epoch 10/10\n",
      "127/127 [==============================] - ETA: 0s - loss: 0.1214 - accuracy: 0.9551\n",
      "Epoch 00010: val_accuracy improved from 0.90423 to 0.90625, saving model to best_model.hdf5\n",
      "127/127 [==============================] - 46s 360ms/step - loss: 0.1214 - accuracy: 0.9551 - val_loss: 0.2358 - val_accuracy: 0.9062\n"
     ]
    },
    {
     "data": {
      "text/plain": [
       "<keras.callbacks.History at 0x1eb1a6142c8>"
      ]
     },
     "execution_count": 16,
     "metadata": {},
     "output_type": "execute_result"
    }
   ],
   "source": [
    "model.fit(train_generator, epochs=10, callbacks=[tensorboard_callback, checkpoint], validation_data=test_generator, validation_steps=validation_steps)"
   ]
  },
  {
   "cell_type": "code",
   "execution_count": 17,
   "id": "3da33785",
   "metadata": {},
   "outputs": [
    {
     "data": {
      "text/plain": [
       "Reusing TensorBoard on port 6006 (pid 1892), started 0:10:49 ago. (Use '!kill 1892' to kill it.)"
      ]
     },
     "metadata": {},
     "output_type": "display_data"
    },
    {
     "data": {
      "text/html": [
       "\n",
       "      <iframe id=\"tensorboard-frame-2660acf025111080\" width=\"100%\" height=\"800\" frameborder=\"0\">\n",
       "      </iframe>\n",
       "      <script>\n",
       "        (function() {\n",
       "          const frame = document.getElementById(\"tensorboard-frame-2660acf025111080\");\n",
       "          const url = new URL(\"/\", window.location);\n",
       "          const port = 6006;\n",
       "          if (port) {\n",
       "            url.port = port;\n",
       "          }\n",
       "          frame.src = url;\n",
       "        })();\n",
       "      </script>\n",
       "    "
      ],
      "text/plain": [
       "<IPython.core.display.HTML object>"
      ]
     },
     "metadata": {},
     "output_type": "display_data"
    }
   ],
   "source": [
    "%tensorboard --logdir logs/fit"
   ]
  },
  {
   "cell_type": "code",
   "execution_count": 18,
   "id": "ad23ca67",
   "metadata": {},
   "outputs": [
    {
     "name": "stdout",
     "output_type": "stream",
     "text": [
      "29/29 [==============================] - 9s 305ms/step - loss: 0.0475 - accuracy: 0.9868\n"
     ]
    },
    {
     "data": {
      "text/plain": [
       "[0.04749244451522827, 0.9868276715278625]"
      ]
     },
     "execution_count": 18,
     "metadata": {},
     "output_type": "execute_result"
    }
   ],
   "source": [
    "model.evaluate(test_generator)"
   ]
  },
  {
   "cell_type": "code",
   "execution_count": 19,
   "id": "977e9b3e",
   "metadata": {},
   "outputs": [],
   "source": [
    "# import shutil\n",
    "\n",
    "# shutil.rmtree('logs', ignore_errors=False)"
   ]
  }
 ],
 "metadata": {
  "kernelspec": {
   "display_name": "Python 3 (ipykernel)",
   "language": "python",
   "name": "python3"
  },
  "language_info": {
   "codemirror_mode": {
    "name": "ipython",
    "version": 3
   },
   "file_extension": ".py",
   "mimetype": "text/x-python",
   "name": "python",
   "nbconvert_exporter": "python",
   "pygments_lexer": "ipython3",
   "version": "3.7.11"
  }
 },
 "nbformat": 4,
 "nbformat_minor": 5
}
