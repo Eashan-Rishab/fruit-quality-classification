{
 "cells": [
  {
   "cell_type": "code",
   "execution_count": 1,
   "id": "04752673",
   "metadata": {},
   "outputs": [
    {
     "name": "stderr",
     "output_type": "stream",
     "text": [
      "Cloning into 'darknet'...\n"
     ]
    }
   ],
   "source": [
    "!git clone \"https://github.com/AlexeyAB/darknet.git\""
   ]
  },
  {
   "cell_type": "code",
   "execution_count": 1,
   "id": "e02b6a4c",
   "metadata": {},
   "outputs": [
    {
     "name": "stdout",
     "output_type": "stream",
     "text": [
      "C:\\Users\\Eashan\\Desktop\\fruit-quality-classification\\fruit-classification\\darknet\n"
     ]
    }
   ],
   "source": [
    "%cd C:\\Users\\Eashan\\Desktop\\fruit-quality-classification\\fruit-classification\\darknet"
   ]
  },
  {
   "cell_type": "code",
   "execution_count": 5,
   "id": "f1c6815b",
   "metadata": {},
   "outputs": [
    {
     "name": "stderr",
     "output_type": "stream",
     "text": [
      "'ls' is not recognized as an internal or external command,\n",
      "operable program or batch file.\n"
     ]
    }
   ],
   "source": [
    "!ls"
   ]
  },
  {
   "cell_type": "code",
   "execution_count": 3,
   "id": "52f7b218",
   "metadata": {},
   "outputs": [
    {
     "name": "stderr",
     "output_type": "stream",
     "text": [
      "'make' is not recognized as an internal or external command,\n",
      "operable program or batch file.\n"
     ]
    }
   ],
   "source": [
    "!make"
   ]
  },
  {
   "cell_type": "code",
   "execution_count": 8,
   "id": "6448f8c8",
   "metadata": {},
   "outputs": [
    {
     "name": "stderr",
     "output_type": "stream",
     "text": [
      "'choco' is not recognized as an internal or external command,\n",
      "operable program or batch file.\n"
     ]
    }
   ],
   "source": [
    "!choco install make"
   ]
  },
  {
   "cell_type": "code",
   "execution_count": null,
   "id": "7be517ba",
   "metadata": {},
   "outputs": [],
   "source": []
  }
 ],
 "metadata": {
  "kernelspec": {
   "display_name": "Python 3 (ipykernel)",
   "language": "python",
   "name": "python3"
  },
  "language_info": {
   "codemirror_mode": {
    "name": "ipython",
    "version": 3
   },
   "file_extension": ".py",
   "mimetype": "text/x-python",
   "name": "python",
   "nbconvert_exporter": "python",
   "pygments_lexer": "ipython3",
   "version": "3.7.11"
  }
 },
 "nbformat": 4,
 "nbformat_minor": 5
}
