{
 "cells": [
  {
   "cell_type": "markdown",
   "id": "20f2a92f",
   "metadata": {},
   "source": [
    "# Import Libraries"
   ]
  },
  {
   "cell_type": "code",
   "execution_count": 1,
   "id": "be69373a",
   "metadata": {},
   "outputs": [],
   "source": [
    "import matplotlib.pyplot as plt\n",
    "import numpy as np\n",
    "import PIL\n",
    "import tensorflow as tf"
   ]
  },
  {
   "cell_type": "code",
   "execution_count": 2,
   "id": "5c40ea91",
   "metadata": {},
   "outputs": [],
   "source": [
    "from tensorflow.keras.layers import Dense,Flatten, Conv2D, MaxPool2D, BatchNormalization, GlobalAveragePooling2D\n",
    "from tensorflow.keras.applications.resnet50 import preprocess_input, decode_predictions, ResNet50, ResNet50\n",
    "from tensorflow.keras.preprocessing.image import ImageDataGenerator, load_img\n",
    "from tensorflow.keras.preprocessing import image\n",
    "from tensorflow.keras.models import Sequential, Model"
   ]
  },
  {
   "cell_type": "code",
   "execution_count": 3,
   "id": "7138b17f",
   "metadata": {},
   "outputs": [],
   "source": [
    "import tensorflow.keras.backend as K\n",
    "K.clear_session()"
   ]
  },
  {
   "cell_type": "markdown",
   "id": "6886126f",
   "metadata": {},
   "source": [
    "# Image Proprocessing"
   ]
  },
  {
   "cell_type": "code",
   "execution_count": 4,
   "id": "fa2f3e21",
   "metadata": {},
   "outputs": [],
   "source": [
    "image_height, image_width = (412, 412)\n",
    "batch_size = 12\n",
    "\n",
    "train_data_dir = 'train/'\n",
    "test_data_dir = 'test/'"
   ]
  },
  {
   "cell_type": "code",
   "execution_count": 5,
   "id": "5a18be24",
   "metadata": {},
   "outputs": [
    {
     "name": "stdout",
     "output_type": "stream",
     "text": [
      "Found 6541 images belonging to 3 classes.\n"
     ]
    }
   ],
   "source": [
    "train_datagen = ImageDataGenerator(preprocessing_function=preprocess_input,\n",
    "                                   horizontal_flip=0.3,\n",
    "                                   shear_range=0.3,\n",
    "                                   validation_split=0.4)\n",
    "\n",
    "train_generator = train_datagen.flow_from_directory(\n",
    "    train_data_dir,\n",
    "    target_size=(image_height, image_width),\n",
    "    batch_size=batch_size,\n",
    "    class_mode='categorical',\n",
    "    subset='training')"
   ]
  },
  {
   "cell_type": "code",
   "execution_count": 6,
   "id": "86308fba",
   "metadata": {},
   "outputs": [
    {
     "name": "stdout",
     "output_type": "stream",
     "text": [
      "Found 1078 images belonging to 3 classes.\n"
     ]
    }
   ],
   "source": [
    "test_generator = train_datagen.flow_from_directory(\n",
    "    test_data_dir,\n",
    "    target_size=(image_height, image_width),\n",
    "    batch_size=1,\n",
    "    class_mode='categorical',\n",
    "    subset='validation')"
   ]
  },
  {
   "cell_type": "markdown",
   "id": "eef9f138",
   "metadata": {},
   "source": [
    "# Load Resnet 50 Model"
   ]
  },
  {
   "cell_type": "code",
   "execution_count": 7,
   "id": "c171c146",
   "metadata": {},
   "outputs": [],
   "source": [
    "base_model = ResNet50(include_top=False, weights='imagenet')"
   ]
  },
  {
   "cell_type": "code",
   "execution_count": 8,
   "id": "2de9e1cd",
   "metadata": {},
   "outputs": [],
   "source": [
    "x = base_model.output\n",
    "x = GlobalAveragePooling2D()(x)\n",
    "x = Dense(1024, activation='relu')(x)\n",
    "\n",
    "predictions = Dense(test_generator.num_classes, activation='softmax')(x)\n",
    "\n",
    "model = Model(inputs=base_model.input, outputs=predictions)\n",
    "\n",
    "\n",
    "for layer in base_model.layers:\n",
    "    layer.trainable=False"
   ]
  },
  {
   "cell_type": "code",
   "execution_count": 9,
   "id": "dd78cdf2",
   "metadata": {},
   "outputs": [],
   "source": [
    "x, y = train_generator.next()"
   ]
  },
  {
   "cell_type": "code",
   "execution_count": 10,
   "id": "8ce6ea9a",
   "metadata": {},
   "outputs": [],
   "source": [
    "model.compile(optimizer='adam', loss='categorical_crossentropy', metrics=['accuracy'])"
   ]
  },
  {
   "cell_type": "markdown",
   "id": "599fa995",
   "metadata": {},
   "source": [
    "## Model Callbacks - Tensorboard and EarlyStopping"
   ]
  },
  {
   "cell_type": "code",
   "execution_count": 11,
   "id": "d331a7cd",
   "metadata": {},
   "outputs": [],
   "source": [
    "%load_ext tensorboard"
   ]
  },
  {
   "cell_type": "code",
   "execution_count": 12,
   "id": "6c1c425e",
   "metadata": {},
   "outputs": [],
   "source": [
    "import datetime\n",
    "from tensorflow.keras.callbacks import TensorBoard\n",
    "\n",
    "\n",
    "# Set Folder for saving logs\n",
    "log_dir = \"logs/fit/\" + datetime.datetime.now().strftime(\"%Y%m%d-%H%M%S\")\n",
    "tensorboard_callback = tf.keras.callbacks.TensorBoard(log_dir=log_dir, histogram_freq=1)"
   ]
  },
  {
   "cell_type": "code",
   "execution_count": 13,
   "id": "65811b8e",
   "metadata": {},
   "outputs": [],
   "source": [
    "early_stopping = tf.keras.callbacks.EarlyStopping(monitor='val_loss', \n",
    "                                min_delta=0, \n",
    "                                patience=0, \n",
    "                                verbose=0, \n",
    "                                mode='auto', \n",
    "                                baseline=None, \n",
    "                                restore_best_weights=False)"
   ]
  },
  {
   "cell_type": "markdown",
   "id": "392bb78c",
   "metadata": {},
   "source": [
    "# Model Training"
   ]
  },
  {
   "cell_type": "code",
   "execution_count": 14,
   "id": "3a735bea",
   "metadata": {},
   "outputs": [],
   "source": [
    "steps_per_epoch =  train_generator.n // batch_size\n",
    "validation_steps= test_generator.n //batch_size"
   ]
  },
  {
   "cell_type": "code",
   "execution_count": 15,
   "id": "ebd74400",
   "metadata": {},
   "outputs": [
    {
     "name": "stderr",
     "output_type": "stream",
     "text": [
      "C:\\Users\\Eashan\\.conda\\envs\\fruit\\lib\\site-packages\\keras\\engine\\functional.py:1410: CustomMaskWarning: Custom mask layers require a config and must override get_config. When loading, the custom mask layer must be passed to the custom_objects argument.\n",
      "  layer_config = serialize_layer_fn(layer)\n"
     ]
    },
    {
     "name": "stdout",
     "output_type": "stream",
     "text": [
      "Epoch 1/3\n",
      "546/546 [==============================] - 187s 332ms/step - loss: 0.1175 - accuracy: 0.9688 - val_loss: 0.0128 - val_accuracy: 1.0000\n",
      "Epoch 2/3\n",
      "546/546 [==============================] - 165s 302ms/step - loss: 0.0285 - accuracy: 0.9917 - val_loss: 5.3724e-04 - val_accuracy: 1.0000\n",
      "Epoch 3/3\n",
      "546/546 [==============================] - 169s 309ms/step - loss: 0.0093 - accuracy: 0.9980 - val_loss: 1.4535e-05 - val_accuracy: 1.0000\n"
     ]
    },
    {
     "data": {
      "text/plain": [
       "<keras.callbacks.History at 0x2aac816ed08>"
      ]
     },
     "execution_count": 15,
     "metadata": {},
     "output_type": "execute_result"
    }
   ],
   "source": [
    "model.fit(train_generator, epochs=3, callbacks=[tensorboard_callback], validation_data=test_generator, validation_steps=validation_steps)"
   ]
  },
  {
   "cell_type": "code",
   "execution_count": 16,
   "id": "686f2231",
   "metadata": {},
   "outputs": [],
   "source": [
    "from keras.models import save_model\n",
    "\n",
    "model.save('my_model.h5')"
   ]
  },
  {
   "cell_type": "code",
   "execution_count": 17,
   "id": "2d57f5dd",
   "metadata": {},
   "outputs": [
    {
     "data": {
      "text/plain": [
       "Reusing TensorBoard on port 6006 (pid 6840), started 3:11:40 ago. (Use '!kill 6840' to kill it.)"
      ]
     },
     "metadata": {},
     "output_type": "display_data"
    },
    {
     "data": {
      "text/html": [
       "\n",
       "      <iframe id=\"tensorboard-frame-78d61a2b3aedaa4c\" width=\"100%\" height=\"800\" frameborder=\"0\">\n",
       "      </iframe>\n",
       "      <script>\n",
       "        (function() {\n",
       "          const frame = document.getElementById(\"tensorboard-frame-78d61a2b3aedaa4c\");\n",
       "          const url = new URL(\"/\", window.location);\n",
       "          const port = 6006;\n",
       "          if (port) {\n",
       "            url.port = port;\n",
       "          }\n",
       "          frame.src = url;\n",
       "        })();\n",
       "      </script>\n",
       "    "
      ],
      "text/plain": [
       "<IPython.core.display.HTML object>"
      ]
     },
     "metadata": {},
     "output_type": "display_data"
    }
   ],
   "source": [
    "%tensorboard --logdir logs/fit"
   ]
  },
  {
   "cell_type": "code",
   "execution_count": null,
   "id": "eb91762b",
   "metadata": {},
   "outputs": [],
   "source": [
    "# import shutil\n",
    "\n",
    "# shutil.rmtree('logs', ignore_errors=False)"
   ]
  }
 ],
 "metadata": {
  "kernelspec": {
   "display_name": "Python 3 (ipykernel)",
   "language": "python",
   "name": "python3"
  },
  "language_info": {
   "codemirror_mode": {
    "name": "ipython",
    "version": 3
   },
   "file_extension": ".py",
   "mimetype": "text/x-python",
   "name": "python",
   "nbconvert_exporter": "python",
   "pygments_lexer": "ipython3",
   "version": "3.7.11"
  }
 },
 "nbformat": 4,
 "nbformat_minor": 5
}
